{
 "cells": [
  {
   "cell_type": "code",
   "execution_count": 1,
   "metadata": {},
   "outputs": [],
   "source": [
    "import pandas as pd\n",
    "import numpy as np\n",
    "import matplotlib.pyplot as plt"
   ]
  },
  {
   "cell_type": "code",
   "execution_count": 2,
   "metadata": {},
   "outputs": [
    {
     "name": "stdout",
     "output_type": "stream",
     "text": [
      "Salary Dataset  :  \n",
      "\n",
      "    Experience  Salary\n",
      "0           2      15\n",
      "1           3      28\n",
      "2           5      42\n",
      "3          13      64\n",
      "4           8      50\n",
      "5          16      90\n",
      "6          11      58\n",
      "7           1       8\n",
      "8           9      54\n",
      "\n",
      "Mean of X :  7.555555555555555\n",
      "Mean of Y :  45.44444444444444\n",
      "\n",
      "n: 9\n",
      "\n",
      "m :  4.799588900308325\n",
      "b :  9.180883864337105\n",
      "\n",
      "Enter Experience: 11\n",
      "\n",
      "Salary for Experience  11 is  61.976361767728676 \n",
      "\n",
      "\n"
     ]
    }
   ],
   "source": [
    "df=pd.read_csv(r\"D:\\dwm\\Datasets\\salary.csv\")\n",
    "print(\"Salary Dataset  :  \\n\\n\",df)\n",
    "\n",
    "\n",
    "n=df.shape[0]\n",
    "X=np.array(df.iloc[:,:1])\n",
    "Y=np.array(df.iloc[:,-1])\n",
    "Xi_Xm=[]\n",
    "Yi_Ym=[]\n",
    "Num=[]\n",
    "Xi_Xm_2=[]\n",
    "\n",
    "\n",
    "X_mean=X.mean()\n",
    "Y_mean=Y.mean()\n",
    "print(\"\\nMean of X : \",X_mean)\n",
    "print(\"Mean of Y : \",Y_mean)\n",
    "\n",
    "print(\"\\nn:\",n)\n",
    "\n",
    "\n",
    "for i in range(n):\n",
    "    Xi_Xm.append(X[i]-X_mean)\n",
    "    Yi_Ym.append(Y[i]-Y_mean)\n",
    "    Num.append(Xi_Xm[i]*Yi_Ym[i])\n",
    "    Xi_Xm_2.append(Xi_Xm[i]**2)\n",
    "\n",
    "Num_mean=np.mean(Num)\n",
    "Den_mean=np.mean(Xi_Xm_2)\n",
    "m=Num_mean/Den_mean\n",
    "print(\"\\nm : \",m)\n",
    "b=Y_mean-m*X_mean\n",
    "print(\"b : \",b)\n",
    "\n",
    "\n",
    "\n",
    "def salary_predict(exp):\n",
    "    return m*exp+b\n",
    "\n",
    "Exp=int(input(\"\\nEnter Experience: \"))\n",
    "print(\"\\nSalary for Experience \",Exp,\"is \",salary_predict(Exp),\"\\n\\n\")\n"
   ]
  },
  {
   "cell_type": "code",
   "execution_count": 3,
   "metadata": {},
   "outputs": [
    {
     "data": {
      "image/png": "[encoded data removed]",
      "text/plain": [
       "<Figure size 648x360 with 1 Axes>"
      ]
     },
     "metadata": {
      "needs_background": "light"
     },
     "output_type": "display_data"
    }
   ],
   "source": [
    "X=df.iloc[:, :-1].values  \n",
    "line = m*X+b\n",
    "\n",
    "\n",
    "plt.figure(figsize=(9, 5))\n",
    "plt.xlabel('Experience', fontsize=12)\n",
    "plt.ylabel('Salary',fontsize=12)\n",
    "plt.title('Experience Vs Salary ',fontsize=12)\n",
    "plt.plot(X, line, color='purple',);\n",
    "plt.scatter(df.Experience,df.Salary,color='#009933',marker='o',s=47)\n",
    "plt.show()"
   ]
  },
  {
   "cell_type": "code",
   "execution_count": null,
   "metadata": {},
   "outputs": [],
   "source": []
  }
 ],
 "metadata": {
  "kernelspec": {
   "display_name": "Python 3",
   "language": "python",
   "name": "python3"
  },
  "language_info": {
   "codemirror_mode": {
    "name": "ipython",
    "version": 3
   },
   "file_extension": ".py",
   "mimetype": "text/x-python",
   "name": "python",
   "nbconvert_exporter": "python",
   "pygments_lexer": "ipython3",
   "version": "3.8.5"
  }
 },
 "nbformat": 4,
 "nbformat_minor": 4
}

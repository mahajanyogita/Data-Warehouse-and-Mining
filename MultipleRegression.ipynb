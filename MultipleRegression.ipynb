{
 "cells": [
  {
   "cell_type": "code",
   "execution_count": 1,
   "metadata": {},
   "outputs": [],
   "source": [
    "import pandas as pd\n",
    "import numpy as np\n",
    "import seaborn as sns\n",
    "import matplotlib.pyplot as plt"
   ]
  },
  {
   "cell_type": "code",
   "execution_count": 2,
   "metadata": {},
   "outputs": [
    {
     "name": "stdout",
     "output_type": "stream",
     "text": [
      "Some Records of dataset \n",
      "\n"
     ]
    },
    {
     "data": {
      "text/html": [
       "<div>\n",
       "<style scoped>\n",
       "    .dataframe tbody tr th:only-of-type {\n",
       "        vertical-align: middle;\n",
       "    }\n",
       "\n",
       "    .dataframe tbody tr th {\n",
       "        vertical-align: top;\n",
       "    }\n",
       "\n",
       "    .dataframe thead th {\n",
       "        text-align: right;\n",
       "    }\n",
       "</style>\n",
       "<table border=\"1\" class=\"dataframe\">\n",
       "  <thead>\n",
       "    <tr style=\"text-align: right;\">\n",
       "      <th></th>\n",
       "      <th>Id</th>\n",
       "      <th>SepalLengthCm</th>\n",
       "      <th>SepalWidthCm</th>\n",
       "      <th>PetalLengthCm</th>\n",
       "      <th>PetalWidthCm</th>\n",
       "      <th>Species</th>\n",
       "    </tr>\n",
       "  </thead>\n",
       "  <tbody>\n",
       "    <tr>\n",
       "      <th>0</th>\n",
       "      <td>1</td>\n",
       "      <td>5.1</td>\n",
       "      <td>3.5</td>\n",
       "      <td>1.4</td>\n",
       "      <td>0.2</td>\n",
       "      <td>Iris-setosa</td>\n",
       "    </tr>\n",
       "    <tr>\n",
       "      <th>1</th>\n",
       "      <td>2</td>\n",
       "      <td>4.9</td>\n",
       "      <td>3.0</td>\n",
       "      <td>1.4</td>\n",
       "      <td>0.2</td>\n",
       "      <td>Iris-setosa</td>\n",
       "    </tr>\n",
       "    <tr>\n",
       "      <th>2</th>\n",
       "      <td>3</td>\n",
       "      <td>4.7</td>\n",
       "      <td>3.2</td>\n",
       "      <td>1.3</td>\n",
       "      <td>0.2</td>\n",
       "      <td>Iris-setosa</td>\n",
       "    </tr>\n",
       "    <tr>\n",
       "      <th>3</th>\n",
       "      <td>4</td>\n",
       "      <td>4.6</td>\n",
       "      <td>3.1</td>\n",
       "      <td>1.5</td>\n",
       "      <td>0.2</td>\n",
       "      <td>Iris-setosa</td>\n",
       "    </tr>\n",
       "    <tr>\n",
       "      <th>4</th>\n",
       "      <td>5</td>\n",
       "      <td>5.0</td>\n",
       "      <td>3.6</td>\n",
       "      <td>1.4</td>\n",
       "      <td>0.2</td>\n",
       "      <td>Iris-setosa</td>\n",
       "    </tr>\n",
       "  </tbody>\n",
       "</table>\n",
       "</div>"
      ],
      "text/plain": [
       "   Id  SepalLengthCm  SepalWidthCm  PetalLengthCm  PetalWidthCm      Species\n",
       "0   1            5.1           3.5            1.4           0.2  Iris-setosa\n",
       "1   2            4.9           3.0            1.4           0.2  Iris-setosa\n",
       "2   3            4.7           3.2            1.3           0.2  Iris-setosa\n",
       "3   4            4.6           3.1            1.5           0.2  Iris-setosa\n",
       "4   5            5.0           3.6            1.4           0.2  Iris-setosa"
      ]
     },
     "execution_count": 2,
     "metadata": {},
     "output_type": "execute_result"
    }
   ],
   "source": [
    "df=pd.read_csv(r\"D:\\dwm\\Datasets\\Iris.csv\")\n",
    "print(\"Some Records of dataset \\n\")\n",
    "df.head()\n"
   ]
  },
  {
   "cell_type": "code",
   "execution_count": 3,
   "metadata": {},
   "outputs": [
    {
     "name": "stdout",
     "output_type": "stream",
     "text": [
      "Unique Species: \n",
      "\n"
     ]
    },
    {
     "data": {
      "text/plain": [
       "array(['Iris-setosa', 'Iris-versicolor', 'Iris-virginica'], dtype=object)"
      ]
     },
     "execution_count": 3,
     "metadata": {},
     "output_type": "execute_result"
    }
   ],
   "source": [
    "\n",
    "print(\"Unique Species: \\n\")\n",
    "df['Species'].unique()"
   ]
  },
  {
   "cell_type": "code",
   "execution_count": 4,
   "metadata": {},
   "outputs": [
    {
     "name": "stdout",
     "output_type": "stream",
     "text": [
      "Unique Species after Assigning Integer Value:\n",
      "\n"
     ]
    },
    {
     "data": {
      "text/plain": [
       "array([1, 2, 3], dtype=int64)"
      ]
     },
     "execution_count": 4,
     "metadata": {},
     "output_type": "execute_result"
    }
   ],
   "source": [
    "\n",
    "#assigning Integer value to categorical data ,bcz regression is only for statistical data\n",
    "df['Species']=df['Species'].replace('Iris-setosa',1)\n",
    "df['Species']=df['Species'].replace('Iris-versicolor',2)\n",
    "df['Species']=df['Species'].replace('Iris-virginica',3)\n",
    "\n",
    "print(\"Unique Species after Assigning Integer Value:\\n\")\n",
    "df['Species'].unique()"
   ]
  },
  {
   "cell_type": "code",
   "execution_count": 5,
   "metadata": {},
   "outputs": [],
   "source": [
    "X1=np.array(df.iloc[:,1:2])\n",
    "X2=np.array(df.iloc[:,2:3])\n",
    "X3=np.array(df.iloc[:,3:4])\n",
    "X4=np.array(df.iloc[:,4:5])\n",
    "Y=np.array(df.iloc[:,-1])\n"
   ]
  },
  {
   "cell_type": "code",
   "execution_count": 6,
   "metadata": {},
   "outputs": [
    {
     "name": "stdout",
     "output_type": "stream",
     "text": [
      "Mean of X1 :  5.843333333333334\n",
      "Mean of X2 :  3.0540000000000003\n",
      "Mean of X3 :  3.758666666666666\n",
      "Mean of X4 :  1.1986666666666668\n",
      "Mean of Y  :  2.0\n"
     ]
    }
   ],
   "source": [
    "X1_mean=X1.mean()\n",
    "X2_mean=X2.mean()\n",
    "X3_mean=X3.mean()\n",
    "X4_mean=X4.mean()\n",
    "Y_mean=Y.mean()\n",
    "print(\"Mean of X1 : \",X1_mean)\n",
    "print(\"Mean of X2 : \",X2_mean)\n",
    "print(\"Mean of X3 : \",X3_mean)\n",
    "print(\"Mean of X4 : \",X4_mean)\n",
    "print(\"Mean of Y  : \",Y_mean)"
   ]
  },
  {
   "cell_type": "code",
   "execution_count": 7,
   "metadata": {},
   "outputs": [
    {
     "name": "stdout",
     "output_type": "stream",
     "text": [
      "n :  150\n"
     ]
    }
   ],
   "source": [
    "n=df.shape[0]\n",
    "print(\"n : \",n)\n"
   ]
  },
  {
   "cell_type": "code",
   "execution_count": 8,
   "metadata": {},
   "outputs": [],
   "source": [
    "Xi_Xm1=[]\n",
    "Xi_Xm2=[]\n",
    "Xi_Xm3=[]\n",
    "Xi_Xm4=[]\n",
    "Yi_Ym=[]\n",
    "\n",
    "Num1=[]\n",
    "Num2=[]\n",
    "Num3=[]\n",
    "Num4=[]\n",
    "\n",
    "Xi_Xm1_2=[]\n",
    "Xi_Xm2_2=[]\n",
    "Xi_Xm3_2=[]\n",
    "Xi_Xm4_2=[]\n"
   ]
  },
  {
   "cell_type": "code",
   "execution_count": 9,
   "metadata": {},
   "outputs": [],
   "source": [
    "for i in range(n):\n",
    "    Xi_Xm1.append(X1[i]-X1_mean)\n",
    "    Xi_Xm2.append(X2[i]-X2_mean)\n",
    "    Xi_Xm3.append(X3[i]-X3_mean)\n",
    "    Xi_Xm4.append(X4[i]-X4_mean)\n",
    "    Yi_Ym.append(Y[i]-Y_mean)\n",
    "    Num1.append(Xi_Xm1[i]*Yi_Ym[i])\n",
    "    Num2.append(Xi_Xm2[i]*Yi_Ym[i])\n",
    "    Num3.append(Xi_Xm3[i]*Yi_Ym[i])\n",
    "    Num4.append(Xi_Xm4[i]*Yi_Ym[i])\n",
    "    Xi_Xm1_2.append(Xi_Xm1[i]**2)\n",
    "    Xi_Xm2_2.append(Xi_Xm2[i]**2)\n",
    "    Xi_Xm3_2.append(Xi_Xm3[i]**2)\n",
    "    Xi_Xm4_2.append(Xi_Xm4[i]**2)"
   ]
  },
  {
   "cell_type": "code",
   "execution_count": 10,
   "metadata": {},
   "outputs": [
    {
     "name": "stdout",
     "output_type": "stream",
     "text": [
      "m1 :  0.7742124924552618\n",
      "m2 :  -0.792500517624212\n",
      "m3 :  0.44064664967700284\n",
      "m4 :  1.0267374256354787\n",
      "b  :  -2.990644884870258\n"
     ]
    }
   ],
   "source": [
    "Num1_mean=np.mean(Num1)\n",
    "Num2_mean=np.mean(Num2)\n",
    "Num3_mean=np.mean(Num3)\n",
    "Num4_mean=np.mean(Num4)\n",
    "Den_mean1=np.mean(Xi_Xm1_2)\n",
    "Den_mean2=np.mean(Xi_Xm2_2)\n",
    "Den_mean3=np.mean(Xi_Xm3_2)\n",
    "Den_mean4=np.mean(Xi_Xm4_2)\n",
    "m1=Num1_mean/Den_mean1\n",
    "print(\"m1 : \",m1)\n",
    "\n",
    "m2=Num2_mean/Den_mean2\n",
    "print(\"m2 : \",m2)\n",
    "\n",
    "m3=Num3_mean/Den_mean3\n",
    "print(\"m3 : \",m3)\n",
    "\n",
    "m4=Num4_mean/Den_mean4\n",
    "print(\"m4 : \",m4)\n",
    "\n",
    "b=Y_mean-m1*X1_mean-m2*X2_mean-m3*X3_mean-m4*X4_mean\n",
    "print(\"b  : \",b)"
   ]
  },
  {
   "cell_type": "code",
   "execution_count": 11,
   "metadata": {},
   "outputs": [],
   "source": [
    "def species_predict(X1,X2,X3,X4):\n",
    "    return m1*X1+m2*X2+m3*X3+m4*X4+b"
   ]
  },
  {
   "cell_type": "code",
   "execution_count": 12,
   "metadata": {},
   "outputs": [
    {
     "name": "stdout",
     "output_type": "stream",
     "text": [
      "Iris Specias for Sepal Length 5.1  Sepal Width 3.5  Petal Length 1.4  PetalWidth 0.2  is  -0.9936601903582656\n"
     ]
    }
   ],
   "source": [
    "SepalLength=5.1\n",
    "SepalWidth=3.5\n",
    "PetalLength=1.4\n",
    "PetalWidth=0.2\n",
    "print(\"Iris Specias for Sepal Length\",SepalLength,\" Sepal Width\", SepalWidth,\" Petal Length\",PetalLength,\" PetalWidth\",\n",
    "      PetalWidth,\" is \",species_predict(SepalLength,SepalWidth,PetalLength,PetalWidth))"
   ]
  },
  {
   "cell_type": "code",
   "execution_count": null,
   "metadata": {},
   "outputs": [],
   "source": []
  },
  {
   "cell_type": "code",
   "execution_count": 13,
   "metadata": {},
   "outputs": [],
   "source": [
    "sns.set_theme(color_codes=True)"
   ]
  },
  {
   "cell_type": "code",
   "execution_count": 14,
   "metadata": {},
   "outputs": [
    {
     "data": {
      "text/plain": [
       "<seaborn.axisgrid.FacetGrid at 0x2444e216c10>"
      ]
     },
     "execution_count": 14,
     "metadata": {},
     "output_type": "execute_result"
    },
    {
     "data": {
      "image/png": "[encoded data removed]",
      "text/plain": [
       "<Figure size 483.55x432 with 1 Axes>"
      ]
     },
     "metadata": {},
     "output_type": "display_data"
    }
   ],
   "source": [
    "sns.FacetGrid(df, hue =\"Species\",height = 6).map(plt.scatter,'SepalLengthCm','PetalLengthCm').add_legend()\n"
   ]
  },
  {
   "cell_type": "code",
   "execution_count": 15,
   "metadata": {},
   "outputs": [
    {
     "data": {
      "text/plain": [
       "<seaborn.axisgrid.FacetGrid at 0x2444e60ca30>"
      ]
     },
     "execution_count": 15,
     "metadata": {},
     "output_type": "execute_result"
    },
    {
     "data": {
      "image/png": "[encoded data removed]",
      "text/plain": [
       "<Figure size 483.55x432 with 1 Axes>"
      ]
     },
     "metadata": {},
     "output_type": "display_data"
    }
   ],
   "source": [
    "sns.FacetGrid(df, hue =\"Species\",height = 6).map(plt.scatter,'SepalWidthCm','PetalWidthCm').add_legend()"
   ]
  },
  {
   "cell_type": "code",
   "execution_count": null,
   "metadata": {},
   "outputs": [],
   "source": []
  },
  {
   "cell_type": "code",
   "execution_count": null,
   "metadata": {},
   "outputs": [],
   "source": []
  }
 ],
 "metadata": {
  "kernelspec": {
   "display_name": "Python 3",
   "language": "python",
   "name": "python3"
  },
  "language_info": {
   "codemirror_mode": {
    "name": "ipython",
    "version": 3
   },
   "file_extension": ".py",
   "mimetype": "text/x-python",
   "name": "python",
   "nbconvert_exporter": "python",
   "pygments_lexer": "ipython3",
   "version": "3.8.5"
  }
 },
 "nbformat": 4,
 "nbformat_minor": 4
}

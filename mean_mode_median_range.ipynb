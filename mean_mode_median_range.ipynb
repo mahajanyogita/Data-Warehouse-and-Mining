{
 "cells": [
  {
   "cell_type": "code",
   "execution_count": 1,
   "metadata": {},
   "outputs": [
    {
     "name": "stdout",
     "output_type": "stream",
     "text": [
      "Mean Salary         :  76009.2\n",
      "Median of Salary    :  65237.0\n",
      "Mode                :  [55794]\n"
     ]
    }
   ],
   "source": [
    "import pandas as pd\n",
    "import numpy as np\n",
    "\n",
    "variable=pd.read_csv(r\"D:\\dwm\\Datasets\\Salary_Data.csv\")\n",
    "data=[]\n",
    "for s in variable['Salary']:\n",
    "    data.append(s)\n",
    "    \n",
    "#Mean\n",
    "\n",
    "mean=sum(data)/len(data)\n",
    "print(\"Mean Salary         : \",mean)\n",
    "\n",
    "\n",
    "#median\n",
    "\n",
    "data.sort()\n",
    "\n",
    "l=len(data)-1\n",
    "if(len(data)%2==0):\n",
    "    m=data[l//2]+data[(l//2)+1]\n",
    "    median=m/2\n",
    "else:\n",
    "    median=data[int(l//2)]\n",
    "print(\"Median of Salary    : \",median)\n",
    "\n",
    "#Mode\n",
    "freq={}\n",
    "set_data=set(data)\n",
    "for d in set_data:\n",
    "    freq[d]=data.count(d)\n",
    "    \n",
    "c=freq.values()\n",
    "max_c=max(c)\n",
    "mode=[]\n",
    "for f in freq:\n",
    "    if freq[f]==max_c:\n",
    "        mode.append(f)\n",
    "        \n",
    "print(\"Mode                : \",mode)"
   ]
  },
  {
   "cell_type": "code",
   "execution_count": 2,
   "metadata": {},
   "outputs": [
    {
     "name": "stdout",
     "output_type": "stream",
     "text": [
      "Range :  84660\n"
     ]
    }
   ],
   "source": [
    "range=max(data)-min(data)\n",
    "print(\"Range : \",range)"
   ]
  },
  {
   "cell_type": "code",
   "execution_count": null,
   "metadata": {},
   "outputs": [],
   "source": []
  }
 ],
 "metadata": {
  "kernelspec": {
   "display_name": "Python 3",
   "language": "python",
   "name": "python3"
  },
  "language_info": {
   "codemirror_mode": {
    "name": "ipython",
    "version": 3
   },
   "file_extension": ".py",
   "mimetype": "text/x-python",
   "name": "python",
   "nbconvert_exporter": "python",
   "pygments_lexer": "ipython3",
   "version": "3.8.5"
  }
 },
 "nbformat": 4,
 "nbformat_minor": 4
}

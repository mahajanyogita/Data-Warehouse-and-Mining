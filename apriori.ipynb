{
 "cells": [
  {
   "cell_type": "code",
   "execution_count": 19,
   "metadata": {},
   "outputs": [],
   "source": [
    "import pandas as pd\n",
    "import numpy as np\n",
    "import os"
   ]
  },
  {
   "cell_type": "code",
   "execution_count": 20,
   "metadata": {},
   "outputs": [
    {
     "data": {
      "text/html": [
       "<div>\n",
       "<style scoped>\n",
       "    .dataframe tbody tr th:only-of-type {\n",
       "        vertical-align: middle;\n",
       "    }\n",
       "\n",
       "    .dataframe tbody tr th {\n",
       "        vertical-align: top;\n",
       "    }\n",
       "\n",
       "    .dataframe thead th {\n",
       "        text-align: right;\n",
       "    }\n",
       "</style>\n",
       "<table border=\"1\" class=\"dataframe\">\n",
       "  <thead>\n",
       "    <tr style=\"text-align: right;\">\n",
       "      <th></th>\n",
       "      <th>TID</th>\n",
       "      <th>Items</th>\n",
       "    </tr>\n",
       "  </thead>\n",
       "  <tbody>\n",
       "    <tr>\n",
       "      <th>0</th>\n",
       "      <td>1</td>\n",
       "      <td>1,3,4</td>\n",
       "    </tr>\n",
       "    <tr>\n",
       "      <th>1</th>\n",
       "      <td>2</td>\n",
       "      <td>2,3,5</td>\n",
       "    </tr>\n",
       "    <tr>\n",
       "      <th>2</th>\n",
       "      <td>3</td>\n",
       "      <td>1,2,3,5</td>\n",
       "    </tr>\n",
       "    <tr>\n",
       "      <th>3</th>\n",
       "      <td>4</td>\n",
       "      <td>2,5</td>\n",
       "    </tr>\n",
       "  </tbody>\n",
       "</table>\n",
       "</div>"
      ],
      "text/plain": [
       "   TID    Items\n",
       "0    1    1,3,4\n",
       "1    2    2,3,5\n",
       "2    3  1,2,3,5\n",
       "3    4      2,5"
      ]
     },
     "execution_count": 20,
     "metadata": {},
     "output_type": "execute_result"
    }
   ],
   "source": [
    "\n",
    "df = pd.read_csv(r\"D:\\dwm\\Datasets\\apr.csv\")\n",
    "df"
   ]
  },
  {
   "cell_type": "code",
   "execution_count": 21,
   "metadata": {},
   "outputs": [
    {
     "name": "stdout",
     "output_type": "stream",
     "text": [
      "Enter Minimum Support in %50\n",
      "Minimum Support Value :  2.0\n"
     ]
    }
   ],
   "source": [
    "min_sup=int(input(\"Enter Minimum Support in %\"))\n",
    "T=df['Items'].count()\n",
    "m_sup=T*min_sup/100\n",
    "\n",
    "print(\"Minimum Support Value : \",m_sup)"
   ]
  },
  {
   "cell_type": "code",
   "execution_count": 22,
   "metadata": {},
   "outputs": [
    {
     "name": "stdout",
     "output_type": "stream",
     "text": [
      "Candidate List :  {'4', '3', '1', '2', '5'}\n"
     ]
    }
   ],
   "source": [
    "item_list=df['Items'].values\n",
    "ele=[]\n",
    "for d in item_list:\n",
    "    s=d.split(',')\n",
    "    for i in s:\n",
    "        ele.append(i)\n",
    "print(\"Candidate List : \" ,set(ele))"
   ]
  },
  {
   "cell_type": "code",
   "execution_count": 23,
   "metadata": {},
   "outputs": [
    {
     "name": "stdout",
     "output_type": "stream",
     "text": [
      "Support value for each Element :  {'1': 2, '2': 3, '3': 3, '4': 1, '5': 3}\n"
     ]
    }
   ],
   "source": [
    "#calculating Support for each element\n",
    "cand_list=list(set(ele))\n",
    "cand_list.sort()\n",
    "can_sup={}\n",
    "for c in cand_list:\n",
    "    can_sup[c]=ele.count(c)\n",
    "print(\"Support value for each Element : \",can_sup)\n",
    "    "
   ]
  },
  {
   "cell_type": "code",
   "execution_count": 24,
   "metadata": {},
   "outputs": [
    {
     "name": "stdout",
     "output_type": "stream",
     "text": [
      "with min support count :  {'1': 2, '2': 3, '3': 3, '5': 3}\n"
     ]
    }
   ],
   "source": [
    "#comparing candidate support count with min support \n",
    "for c in cand_list:\n",
    "    if(can_sup[c]< m_sup):\n",
    "        can_sup.pop(c)\n",
    "print(\"with min support count : \", can_sup)\n",
    "       "
   ]
  },
  {
   "cell_type": "code",
   "execution_count": 25,
   "metadata": {},
   "outputs": [],
   "source": [
    "#generating candidate c2\n",
    "ele=list(can_sup.keys())\n"
   ]
  },
  {
   "cell_type": "code",
   "execution_count": 26,
   "metadata": {},
   "outputs": [
    {
     "name": "stdout",
     "output_type": "stream",
     "text": [
      "C2   :        [{'1', '2'}, {'1', '3'}, {'1', '5'}, {'2', '3'}, {'2', '5'}, {'5', '3'}]\n"
     ]
    }
   ],
   "source": [
    "cand_list=[]\n",
    "for i in range(len(ele)):\n",
    "    for j in range(i+1,len(ele)):\n",
    "        cand_list.append({ele[i],ele[j]})\n",
    "print(\"C2   :       \",cand_list)"
   ]
  },
  {
   "cell_type": "code",
   "execution_count": 27,
   "metadata": {},
   "outputs": [
    {
     "name": "stdout",
     "output_type": "stream",
     "text": [
      "Candidate with frequency  :    {('1', '2'): 1, ('1', '3'): 2, ('1', '5'): 1, ('2', '3'): 2, ('2', '5'): 3, ('5', '3'): 2}\n"
     ]
    }
   ],
   "source": [
    "l=cand_list\n",
    "\n",
    "cand_list={}\n",
    "for s in range(len(l)):\n",
    "    e=list(l[s])\n",
    "    cand_list[tuple(e)]=0\n",
    "    for d in item_list:\n",
    "        if(e[0] in d and e[1] in d):\n",
    "            cand_list[tuple(e)]=cand_list[tuple(e)]+1\n",
    "print(\"Candidate with frequency  :   \",cand_list)"
   ]
  },
  {
   "cell_type": "code",
   "execution_count": 28,
   "metadata": {},
   "outputs": [
    {
     "name": "stdout",
     "output_type": "stream",
     "text": [
      "with min support count :  {('1', '3'): 2, ('2', '3'): 2, ('2', '5'): 3, ('5', '3'): 2}\n"
     ]
    }
   ],
   "source": [
    "for c in l:\n",
    "    if(cand_list[tuple(c)]<m_sup):\n",
    "        cand_list.pop(tuple(c))\n",
    "print(\"with min support count : \", cand_list)\n",
    "       "
   ]
  },
  {
   "cell_type": "code",
   "execution_count": 29,
   "metadata": {},
   "outputs": [],
   "source": [
    "#generate cadidate C3\n",
    "c3_keys=list(cand_list.keys())\n"
   ]
  },
  {
   "cell_type": "code",
   "execution_count": 30,
   "metadata": {},
   "outputs": [
    {
     "name": "stdout",
     "output_type": "stream",
     "text": [
      "C3  :    {('2', '5', '3'), ('1', '3', '2'), ('1', '5', '3'), ('1', '5', '3', '2')}\n"
     ]
    }
   ],
   "source": [
    "#frequent 3 itemset\n",
    "\n",
    "c3_set=[]\n",
    "for i in range(len(c3_keys)):\n",
    "    for j in range(i+1,len(c3_keys)):\n",
    "        c3_set.append(tuple((set(c3_keys[i]).union(set(c3_keys[j])))))\n",
    "c3=set(c3_set)\n",
    "print(\"C3  :   \",c3)"
   ]
  },
  {
   "cell_type": "code",
   "execution_count": 31,
   "metadata": {},
   "outputs": [
    {
     "name": "stdout",
     "output_type": "stream",
     "text": [
      "Candidate with Frequency :   {('2', '5', '3'): 2, ('1', '3', '2'): 1, ('1', '5', '3'): 1, ('1', '5', '3', '2'): 1}\n"
     ]
    }
   ],
   "source": [
    "l=list(c3)\n",
    "\n",
    "cand_list={}\n",
    "for s in range(len(l)):\n",
    "    e=list(l[s])\n",
    "    cand_list[tuple(e)]=0\n",
    "    for d in item_list:\n",
    "        if(e[0] in d and e[1] in d and e[2] in d):\n",
    "            cand_list[tuple(e)]=cand_list[tuple(e)]+1\n",
    "print(\"Candidate with Frequency :  \",cand_list)\n",
    "        "
   ]
  },
  {
   "cell_type": "code",
   "execution_count": 32,
   "metadata": {},
   "outputs": [
    {
     "name": "stdout",
     "output_type": "stream",
     "text": [
      "with min support count :  {('2', '5', '3'): 2}\n"
     ]
    }
   ],
   "source": [
    "for c in l:\n",
    "    if(cand_list[tuple(c)]<m_sup):\n",
    "        cand_list.pop(tuple(c))\n",
    "print(\"with min support count : \", cand_list)\n",
    "       "
   ]
  },
  {
   "cell_type": "code",
   "execution_count": 33,
   "metadata": {},
   "outputs": [
    {
     "name": "stdout",
     "output_type": "stream",
     "text": [
      "Frequent Item Set:   ('2', '5', '3')\n"
     ]
    }
   ],
   "source": [
    "cand_list=list(cand_list.keys())\n",
    "print(\"Frequent Item Set:  \",cand_list[0])"
   ]
  }
 ],
 "metadata": {
  "kernelspec": {
   "display_name": "Python 3",
   "language": "python",
   "name": "python3"
  },
  "language_info": {
   "codemirror_mode": {
    "name": "ipython",
    "version": 3
   },
   "file_extension": ".py",
   "mimetype": "text/x-python",
   "name": "python",
   "nbconvert_exporter": "python",
   "pygments_lexer": "ipython3",
   "version": "3.8.5"
  }
 },
 "nbformat": 4,
 "nbformat_minor": 4
}
